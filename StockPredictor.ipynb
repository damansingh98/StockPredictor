{
 "cells": [
  {
   "cell_type": "markdown",
   "metadata": {},
   "source": [
    "### Stock predictions using different interpolation methods: "
   ]
  },
  {
   "cell_type": "markdown",
   "metadata": {},
   "source": [
    "Website used to extract data: "
   ]
  },
  {
   "cell_type": "markdown",
   "metadata": {},
   "source": [
    "https://www.wsj.com/market-data/quotes/index/DJIA/historical-prices"
   ]
  },
  {
   "cell_type": "code",
   "execution_count": 1,
   "metadata": {},
   "outputs": [],
   "source": [
    "import numpy as np\n",
    "import matplotlib.pyplot as plt\n",
    "from scipy.sparse import spdiags\n",
    "from scipy.sparse.linalg import spsolve\n",
    "\n",
    "%matplotlib inline"
   ]
  },
  {
   "cell_type": "code",
   "execution_count": 2,
   "metadata": {},
   "outputs": [],
   "source": [
    "#Cubic Spline method\n",
    "def CubicSpline(xvals,fvals,qvals):\n",
    "    n = fvals.size - 1\n",
    "    df = fvals[1:]-fvals[0:n]\n",
    "    dx = xvals[1:]-xvals[0:n]\n",
    "    dfdx = df/dx\n",
    "    svals = np.zeros(qvals.size)\n",
    "    \n",
    "    rhs = dfdx[1:] - dfdx[0:n-1]\n",
    "    diag = 2./3.*(dx[1:] + dx[0:n-1])\n",
    "    \n",
    "    data = np.array([diag,dx[1:]/3.,dx[0:n-1]/3.])\n",
    "    dvals = np.array([0,-1,1])\n",
    "    Bmat = spdiags(data, dvals, n-1, n-1)\n",
    "    bvec = spsolve(Bmat,rhs)\n",
    "    bvec = np.append(0.,bvec)\n",
    "    \n",
    "    cvec = dfdx - 2./3.*dx*bvec - dx/3.*np.append(bvec[1:],0.)\n",
    "    avec = (dfdx - dx*bvec - cvec)/(dx**2.)\n",
    "    \n",
    "    for jj in range(1,n+1):\n",
    "        \n",
    "        indsr = qvals < xvals[jj] \n",
    "        indsl = qvals >= xvals[jj-1]\n",
    "        inds = indsl*indsr\n",
    "        \n",
    "        dxloc = qvals[inds] - xvals[jj-1]\n",
    "        svals[inds] = avec[jj-1]*dxloc**3. + bvec[jj-1]*dxloc**2. + cvec[jj-1]*dxloc + fvals[jj-1]\n",
    "        \n",
    "    return svals"
   ]
  },
  {
   "cell_type": "code",
   "execution_count": 3,
   "metadata": {},
   "outputs": [
    {
     "name": "stdout",
     "output_type": "stream",
     "text": [
      "Prediction using Spline is: 28277.565750\n",
      "Prediction using Lagrange is: 28249.879961\n",
      "Prediction using Newton is: 28249.879961\n"
     ]
    },
    {
     "name": "stderr",
     "output_type": "stream",
     "text": [
      "C:\\Users\\Daman\\anaconda3\\lib\\site-packages\\scipy\\sparse\\linalg\\dsolve\\linsolve.py:144: SparseEfficiencyWarning: spsolve requires A be CSC or CSR matrix format\n",
      "  warn('spsolve requires A be CSC or CSR matrix format',\n"
     ]
    }
   ],
   "source": [
    "#Lagrange L function \n",
    "def lfun(xvals,jj,x):\n",
    "    lval = np.ones(x.size)\n",
    "    n = xvals.size\n",
    "    for l in range(0,n):\n",
    "        if l != jj:\n",
    "            lval *= (x-xvals[l])/(xvals[jj]-xvals[l])  \n",
    "    return lval\n",
    "\n",
    "#Lagrange Interperator \n",
    "def lagran_interp(xvals,fvals,x): #Lagrange\n",
    "    n = fvals.size\n",
    "    ipoly = np.zeros(x.size)\n",
    "    for jj in range(0,n):\n",
    "        ipoly += fvals[jj]*lfun(xvals,jj,x)\n",
    "    return ipoly\n",
    "\n",
    "\n",
    "#Newton's divided difference\n",
    "def b1pl(xval, fval): #b1\n",
    "    return (fval[1]-fval[0])/(xval[1]-xval[0])\n",
    "\n",
    "\n",
    "def b2pl(xval, fval): #b2\n",
    "    return (((fval[2]-fval[1])/(xval[2]-xval[1]))-b1pl(xval, fval))/(xval[2]-xval[0])\n",
    "\n",
    "def b3pl(xval, fval): #b3\n",
    "    f32 = (fval[3]-fval[2])/(xval[3]-xval[2])\n",
    "    f21 = (fval[2]-fval[1])/(xval[2]-xval[1])\n",
    "    f321 = (f32-f21)/(xval[3]-xval[1])\n",
    "    return (f321-b2pl(xval, fval))/(xval[3]-xval[0])\n",
    "\n",
    "def b4pl(xval, fval): #b4\n",
    "    f43 = (fval[4]-fval[3])/(xval[4]-xval[3])\n",
    "    f32 = (fval[3]-fval[2])/(xval[3]-xval[2])\n",
    "    f432 = (f43-f32)/(xval[4]-xval[2])\n",
    "    f21 = (fval[2]-fval[1])/(xval[2]-xval[1])\n",
    "    f321 = (f32-f21)/(xval[3]-xval[1])\n",
    "    f4321 = (f432-f321)/(xval[4]-xval[1])\n",
    "    return (f4321-b3pl(xval, fval))/(xval[4]-xval[0])\n",
    "\n",
    "def FourthOrder(xval, fval, x):\n",
    "    m = 0\n",
    "    b0 = fval[m]\n",
    "    b1 = b1pl(xval, fval)*(x-xval[m])\n",
    "    b2 = b2pl(xval, fval)*(x-xval[m])*(x-xval[m+1])\n",
    "    b3 = b3pl(xval, fval)*(x-xval[m])*(x-xval[m+1])*(x-xval[m+2])\n",
    "    b4 = b4pl(xval, fval)*(x-xval[m])*(x-xval[m+1])*(x-xval[m+2])*(x-xval[m+3])\n",
    "    f6x = b0 + b1 + b2 + b3 + b4\n",
    "    return f6x \n",
    "\n",
    "#data recived as file (download data from website above or use \"wget\") \n",
    "cvals = np.array([26925.05, 27480.03, 27847.66, 28390.18, 28323.40])\n",
    "xval = np.linspace(0, 96, 5)\n",
    "gval = np.array([65.5])\n",
    "\n",
    "\n",
    "spline = CubicSpline(xval, cvals, gval) #spline\n",
    "lagrange = lagran_interp(xval, cvals, gval) #lagrange\n",
    "newton = FourthOrder(xval, cvals, gval) #Newton\n",
    "print('Prediction using Spline is: %f' % np.max(spline))\n",
    "print('Prediction using Lagrange is: %f' % np.max(lagrange))\n",
    "print('Prediction using Newton is: %f' % np.max(newton))"
   ]
  }
 ],
 "metadata": {
  "kernelspec": {
   "display_name": "Python 3",
   "language": "python",
   "name": "python3"
  },
  "language_info": {
   "codemirror_mode": {
    "name": "ipython",
    "version": 3
   },
   "file_extension": ".py",
   "mimetype": "text/x-python",
   "name": "python",
   "nbconvert_exporter": "python",
   "pygments_lexer": "ipython3",
   "version": "3.8.3"
  }
 },
 "nbformat": 4,
 "nbformat_minor": 4
}
